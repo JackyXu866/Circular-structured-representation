{
 "cells": [
  {
   "cell_type": "code",
   "execution_count": 6,
   "metadata": {},
   "outputs": [],
   "source": [
    "import numpy as np\n",
    "import matplotlib.pyplot as plt\n",
    "import os\n",
    "import pandas as pd\n",
    "import seaborn as sns\n",
    "from PIL import Image"
   ]
  },
  {
   "cell_type": "code",
   "execution_count": 25,
   "metadata": {},
   "outputs": [],
   "source": [
    "DATA_DIR = '../data/UnBiasedEmo/images'\n",
    "OUTPUT_DIR = '../output/UnBiasedEmo'"
   ]
  },
  {
   "cell_type": "code",
   "execution_count": 7,
   "metadata": {},
   "outputs": [],
   "source": [
    "# dir_categories = {\"anger\", \"fear\", \"joy\", \"love\", \"sadness\", \"surprise\"}\n",
    "dir_categories = {\"0\": \"anger\", \"1\": \"fear\", \"2\": \"joy\", \"3\": \"love\", \"4\": \"sadness\", \"5\": \"surprise\"}"
   ]
  },
  {
   "cell_type": "code",
   "execution_count": 34,
   "metadata": {},
   "outputs": [],
   "source": [
    "def load_data():\n",
    "    data = {category: [] for category in dir_categories.values()}\n",
    "    for key, category in dir_categories.items():\n",
    "        for subdir, _, files in os.walk(os.path.join(DATA_DIR, category)):\n",
    "            for file in files:\n",
    "                # jpg files\n",
    "                if file.endswith('.jpg'):\n",
    "                    img = Image.open(os.path.join(subdir, file))\n",
    "                    data[category].append(np.array(img))\n",
    "    return data"
   ]
  },
  {
   "cell_type": "code",
   "execution_count": 35,
   "metadata": {},
   "outputs": [],
   "source": [
    "data = load_data()"
   ]
  },
  {
   "cell_type": "code",
   "execution_count": null,
   "metadata": {},
   "outputs": [],
   "source": []
  }
 ],
 "metadata": {
  "kernelspec": {
   "display_name": "cal",
   "language": "python",
   "name": "python3"
  },
  "language_info": {
   "codemirror_mode": {
    "name": "ipython",
    "version": 3
   },
   "file_extension": ".py",
   "mimetype": "text/x-python",
   "name": "python",
   "nbconvert_exporter": "python",
   "pygments_lexer": "ipython3",
   "version": "3.7.16"
  }
 },
 "nbformat": 4,
 "nbformat_minor": 2
}
